{
 "cells": [
  {
   "cell_type": "code",
   "execution_count": null,
   "metadata": {
    "collapsed": true
   },
   "outputs": [],
   "source": [
    "\n",
    "import skimage\n",
    "import matplotlib.pyplot as plt\n",
    "from utils_functions import scale_img,normlize_img,Stardist_Segmentation,cellpose_segmentation\n",
    "from cellpose import utils\n",
    "from gen_functions import save_fig\n",
    "import matplotlib.pyplot as plt"
   ]
  },
  {
   "cell_type": "code",
   "execution_count": null,
   "outputs": [],
   "source": [
    "origin_image=skimage.io.imread('/Users/haoranyue/Documents/segmentation_data/P269_HumTORMP_TMA14_Scan1_component_data_DAPI.tif')"
   ],
   "metadata": {
    "collapsed": false
   }
  },
  {
   "cell_type": "code",
   "execution_count": null,
   "outputs": [],
   "source": [
    "norm_img=normlize_img(origin_image)\n",
    "\n",
    "scaled_img=scale_img(norm_img)"
   ],
   "metadata": {
    "collapsed": false
   }
  },
  {
   "cell_type": "code",
   "execution_count": null,
   "outputs": [],
   "source": [
    "# Create a 2x4 grid of subplots with a specified figure size\n",
    "fig, ax = plt.subplots(1, 3, figsize=(30, 15))\n",
    "\n",
    "ax[0].imshow(origin_image, aspect='auto')\n",
    "ax[0].set_title('DAPI Original')  # Corrected here\n",
    "ax[0].axis('off')  # Turn off axis numbers and ticks\n",
    "\n",
    "ax[1].imshow(norm_img, aspect='auto')\n",
    "ax[1].set_title('Normalized image')  # Corrected here\n",
    "ax[1].axis('off')  # Turn off axis numbers and ticks\n",
    "\n",
    "ax[2].imshow(scaled_img, aspect='auto')\n",
    "ax[2].set_title('Scaled image')  # Corrected here\n",
    "ax[2].axis('off')  # Turn off axis numbers and ticks\n",
    "\n",
    "# ax[3].imshow(edged_img, aspect='auto')\n",
    "# ax[3].set_title('Edged image')  # Corrected here\n",
    "# ax[3].axis('off')  # Turn off axis numbers and ticks\n",
    "plt.show()\n"
   ],
   "metadata": {
    "collapsed": false
   }
  },
  {
   "cell_type": "code",
   "execution_count": null,
   "outputs": [],
   "source": [
    "import pathlib\n",
    "path_to_save = pathlib.Path('/Users/haoranyue/Documents/segmentation_data/DAPI_pre-processing')\n",
    "save_fig(path=path_to_save, fig_id=\"1\")\n"
   ],
   "metadata": {
    "collapsed": false
   }
  }
 ],
 "metadata": {
  "kernelspec": {
   "display_name": "Python 3",
   "language": "python",
   "name": "python3"
  },
  "language_info": {
   "codemirror_mode": {
    "name": "ipython",
    "version": 2
   },
   "file_extension": ".py",
   "mimetype": "text/x-python",
   "name": "python",
   "nbconvert_exporter": "python",
   "pygments_lexer": "ipython2",
   "version": "2.7.6"
  }
 },
 "nbformat": 4,
 "nbformat_minor": 0
}
